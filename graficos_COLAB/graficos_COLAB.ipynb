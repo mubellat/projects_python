{
  "cells": [
    {
      "cell_type": "markdown",
      "source": [],
      "metadata": {
        "id": "NBNnmjzho-Dg"
      }
    },
    {
      "cell_type": "markdown",
      "source": [
        "# Adicionar bibliotecas:"
      ],
      "metadata": {
        "id": "EeX-5XMxpAG_"
      }
    },
    {
      "cell_type": "code",
      "source": [
        "# !pip install pandas\n",
        "# !pip install matplotlib\n",
        "# !pip install seaborn"
      ],
      "metadata": {
        "id": "mfC28__8qgZ4"
      },
      "execution_count": null,
      "outputs": []
    },
    {
      "cell_type": "markdown",
      "source": [
        "# Importação do COLAB:"
      ],
      "metadata": {
        "id": "qo_vWGy6p5Qo"
      }
    },
    {
      "cell_type": "code",
      "source": [
        "import pandas as pd\n",
        "import matplotlib.pyplot as plt\n",
        "import seaborn as sns"
      ],
      "metadata": {
        "id": "1S_HN5mJpOOh"
      },
      "execution_count": null,
      "outputs": []
    },
    {
      "cell_type": "markdown",
      "source": [
        "#Carregando o arquivo:"
      ],
      "metadata": {
        "id": "dUenaC32sSPB"
      }
    },
    {
      "cell_type": "code",
      "source": [
        "from google.colab import files\n",
        "uploaded = files.upload()\n",
        "\n",
        "# Lendo o CSV\n",
        "df = pd.read_csv(\"Consumo_cerveja.csv\")\n",
        "df.head()"
      ],
      "metadata": {
        "colab": {
          "base_uri": "https://localhost:8080/",
          "height": 38
        },
        "id": "8dhONuAEsYSA",
        "outputId": "b99bba77-ae09-4f92-ebd3-e78d5554b789"
      },
      "execution_count": null,
      "outputs": [
        {
          "output_type": "display_data",
          "data": {
            "text/plain": [
              "<IPython.core.display.HTML object>"
            ],
            "text/html": [
              "\n",
              "     <input type=\"file\" id=\"files-590be9be-7ecd-42a5-b5df-b82f5148dd3b\" name=\"files[]\" multiple disabled\n",
              "        style=\"border:none\" />\n",
              "     <output id=\"result-590be9be-7ecd-42a5-b5df-b82f5148dd3b\">\n",
              "      Upload widget is only available when the cell has been executed in the\n",
              "      current browser session. Please rerun this cell to enable.\n",
              "      </output>\n",
              "      <script>// Copyright 2017 Google LLC\n",
              "//\n",
              "// Licensed under the Apache License, Version 2.0 (the \"License\");\n",
              "// you may not use this file except in compliance with the License.\n",
              "// You may obtain a copy of the License at\n",
              "//\n",
              "//      http://www.apache.org/licenses/LICENSE-2.0\n",
              "//\n",
              "// Unless required by applicable law or agreed to in writing, software\n",
              "// distributed under the License is distributed on an \"AS IS\" BASIS,\n",
              "// WITHOUT WARRANTIES OR CONDITIONS OF ANY KIND, either express or implied.\n",
              "// See the License for the specific language governing permissions and\n",
              "// limitations under the License.\n",
              "\n",
              "/**\n",
              " * @fileoverview Helpers for google.colab Python module.\n",
              " */\n",
              "(function(scope) {\n",
              "function span(text, styleAttributes = {}) {\n",
              "  const element = document.createElement('span');\n",
              "  element.textContent = text;\n",
              "  for (const key of Object.keys(styleAttributes)) {\n",
              "    element.style[key] = styleAttributes[key];\n",
              "  }\n",
              "  return element;\n",
              "}\n",
              "\n",
              "// Max number of bytes which will be uploaded at a time.\n",
              "const MAX_PAYLOAD_SIZE = 100 * 1024;\n",
              "\n",
              "function _uploadFiles(inputId, outputId) {\n",
              "  const steps = uploadFilesStep(inputId, outputId);\n",
              "  const outputElement = document.getElementById(outputId);\n",
              "  // Cache steps on the outputElement to make it available for the next call\n",
              "  // to uploadFilesContinue from Python.\n",
              "  outputElement.steps = steps;\n",
              "\n",
              "  return _uploadFilesContinue(outputId);\n",
              "}\n",
              "\n",
              "// This is roughly an async generator (not supported in the browser yet),\n",
              "// where there are multiple asynchronous steps and the Python side is going\n",
              "// to poll for completion of each step.\n",
              "// This uses a Promise to block the python side on completion of each step,\n",
              "// then passes the result of the previous step as the input to the next step.\n",
              "function _uploadFilesContinue(outputId) {\n",
              "  const outputElement = document.getElementById(outputId);\n",
              "  const steps = outputElement.steps;\n",
              "\n",
              "  const next = steps.next(outputElement.lastPromiseValue);\n",
              "  return Promise.resolve(next.value.promise).then((value) => {\n",
              "    // Cache the last promise value to make it available to the next\n",
              "    // step of the generator.\n",
              "    outputElement.lastPromiseValue = value;\n",
              "    return next.value.response;\n",
              "  });\n",
              "}\n",
              "\n",
              "/**\n",
              " * Generator function which is called between each async step of the upload\n",
              " * process.\n",
              " * @param {string} inputId Element ID of the input file picker element.\n",
              " * @param {string} outputId Element ID of the output display.\n",
              " * @return {!Iterable<!Object>} Iterable of next steps.\n",
              " */\n",
              "function* uploadFilesStep(inputId, outputId) {\n",
              "  const inputElement = document.getElementById(inputId);\n",
              "  inputElement.disabled = false;\n",
              "\n",
              "  const outputElement = document.getElementById(outputId);\n",
              "  outputElement.innerHTML = '';\n",
              "\n",
              "  const pickedPromise = new Promise((resolve) => {\n",
              "    inputElement.addEventListener('change', (e) => {\n",
              "      resolve(e.target.files);\n",
              "    });\n",
              "  });\n",
              "\n",
              "  const cancel = document.createElement('button');\n",
              "  inputElement.parentElement.appendChild(cancel);\n",
              "  cancel.textContent = 'Cancel upload';\n",
              "  const cancelPromise = new Promise((resolve) => {\n",
              "    cancel.onclick = () => {\n",
              "      resolve(null);\n",
              "    };\n",
              "  });\n",
              "\n",
              "  // Wait for the user to pick the files.\n",
              "  const files = yield {\n",
              "    promise: Promise.race([pickedPromise, cancelPromise]),\n",
              "    response: {\n",
              "      action: 'starting',\n",
              "    }\n",
              "  };\n",
              "\n",
              "  cancel.remove();\n",
              "\n",
              "  // Disable the input element since further picks are not allowed.\n",
              "  inputElement.disabled = true;\n",
              "\n",
              "  if (!files) {\n",
              "    return {\n",
              "      response: {\n",
              "        action: 'complete',\n",
              "      }\n",
              "    };\n",
              "  }\n",
              "\n",
              "  for (const file of files) {\n",
              "    const li = document.createElement('li');\n",
              "    li.append(span(file.name, {fontWeight: 'bold'}));\n",
              "    li.append(span(\n",
              "        `(${file.type || 'n/a'}) - ${file.size} bytes, ` +\n",
              "        `last modified: ${\n",
              "            file.lastModifiedDate ? file.lastModifiedDate.toLocaleDateString() :\n",
              "                                    'n/a'} - `));\n",
              "    const percent = span('0% done');\n",
              "    li.appendChild(percent);\n",
              "\n",
              "    outputElement.appendChild(li);\n",
              "\n",
              "    const fileDataPromise = new Promise((resolve) => {\n",
              "      const reader = new FileReader();\n",
              "      reader.onload = (e) => {\n",
              "        resolve(e.target.result);\n",
              "      };\n",
              "      reader.readAsArrayBuffer(file);\n",
              "    });\n",
              "    // Wait for the data to be ready.\n",
              "    let fileData = yield {\n",
              "      promise: fileDataPromise,\n",
              "      response: {\n",
              "        action: 'continue',\n",
              "      }\n",
              "    };\n",
              "\n",
              "    // Use a chunked sending to avoid message size limits. See b/62115660.\n",
              "    let position = 0;\n",
              "    do {\n",
              "      const length = Math.min(fileData.byteLength - position, MAX_PAYLOAD_SIZE);\n",
              "      const chunk = new Uint8Array(fileData, position, length);\n",
              "      position += length;\n",
              "\n",
              "      const base64 = btoa(String.fromCharCode.apply(null, chunk));\n",
              "      yield {\n",
              "        response: {\n",
              "          action: 'append',\n",
              "          file: file.name,\n",
              "          data: base64,\n",
              "        },\n",
              "      };\n",
              "\n",
              "      let percentDone = fileData.byteLength === 0 ?\n",
              "          100 :\n",
              "          Math.round((position / fileData.byteLength) * 100);\n",
              "      percent.textContent = `${percentDone}% done`;\n",
              "\n",
              "    } while (position < fileData.byteLength);\n",
              "  }\n",
              "\n",
              "  // All done.\n",
              "  yield {\n",
              "    response: {\n",
              "      action: 'complete',\n",
              "    }\n",
              "  };\n",
              "}\n",
              "\n",
              "scope.google = scope.google || {};\n",
              "scope.google.colab = scope.google.colab || {};\n",
              "scope.google.colab._files = {\n",
              "  _uploadFiles,\n",
              "  _uploadFilesContinue,\n",
              "};\n",
              "})(self);\n",
              "</script> "
            ]
          },
          "metadata": {}
        }
      ]
    },
    {
      "cell_type": "markdown",
      "source": [
        "#Gráfico de colunas (barras verticais):"
      ],
      "metadata": {
        "id": "liFgLQQxs84z"
      }
    },
    {
      "cell_type": "markdown",
      "source": [],
      "metadata": {
        "id": "5MPEkpt2utII"
      }
    },
    {
      "cell_type": "code",
      "source": [
        "media_consumo = df.groupby(\"Final de Semana\")[\"Consumo de cerveja (litros)\"].mean()\n",
        "\n",
        "media_consumo.plot(kind=\"bar\", color=[\"blue\", \"orange\"])\n",
        "plt.title(\"Consumo Médio de Cerveja - Dias de Semana vs Final de Semana\")\n",
        "plt.ylabel(\"Litros\")\n",
        "plt.xticks(ticks=[0, 1], labels=['DU', 'FDS'], rotation=0)\n",
        "plt.show()"
      ],
      "metadata": {
        "id": "WBipQ73ytDXT"
      },
      "execution_count": null,
      "outputs": []
    },
    {
      "cell_type": "markdown",
      "source": [
        "#Gráfico de barras horizontais:"
      ],
      "metadata": {
        "id": "uX_Z-kCbuwUt"
      }
    },
    {
      "cell_type": "code",
      "source": [
        "plt.barh(df['Consumo de cerveja (litros)'], df['Precipitacao (mm)'], color='blue')\n",
        "plt.xlabel(\"Precipitação (mm)\")\n",
        "plt.ylabel(\"Consumo de cerveja (litros)\")\n",
        "plt.title(\"Precipitação x Consumo de Cerveja\")\n",
        "plt.show()"
      ],
      "metadata": {
        "id": "Vksw1psAu3hB"
      },
      "execution_count": null,
      "outputs": []
    },
    {
      "cell_type": "markdown",
      "source": [
        "#Gráfico de Setores(Pizza):"
      ],
      "metadata": {
        "id": "RGK7_2tNvfUt"
      }
    },
    {
      "cell_type": "code",
      "source": [
        "dias_chuva = (df[\"Precipitacao (mm)\"] <= 0).value_counts()\n",
        "dias_chuva.index = [\"Sem chuva\", \"Com chuva\"]\n",
        "\n",
        "plt.pie(dias_chuva, labels=dias_chuva.index, autopct=\"%1.2f%%\", colors=[\"gold\", \"lightblue\"])\n",
        "plt.title(\"Proporção de Dias com e sem Chuva\")\n",
        "plt.show()"
      ],
      "metadata": {
        "id": "aQ0vB9E5vmDZ"
      },
      "execution_count": null,
      "outputs": []
    },
    {
      "cell_type": "markdown",
      "source": [
        "#Distribuição do consumo de cerveja:"
      ],
      "metadata": {
        "id": "lRjKHeeUvqeJ"
      }
    },
    {
      "cell_type": "code",
      "source": [
        "plt.hist(df[\"Consumo de cerveja (litros)\"], bins=5, color=\"lightgreen\", edgecolor=\"black\")\n",
        "plt.title(\"Distribuição do Consumo de Cerveja\")\n",
        "plt.xlabel(\"Litros\")\n",
        "plt.ylabel(\"Frequência\")\n",
        "plt.show()"
      ],
      "metadata": {
        "id": "9fmNHtmcvuFG"
      },
      "execution_count": null,
      "outputs": []
    },
    {
      "cell_type": "markdown",
      "source": [
        "#Polígono de Frequência:"
      ],
      "metadata": {
        "id": "irLbyVN-vyHe"
      }
    },
    {
      "cell_type": "code",
      "source": [
        "counts, bins, patches = plt.hist(df[\"Consumo de cerveja (litros)\"], bins=5, alpha=0.5, color=\"lightgray\", edgecolor=\"black\")\n",
        "plt.plot(bins[:-1], counts, marker=\"o\", color=\"red\")\n",
        "plt.title(\"Polígono de Frequência - Consumo de Cerveja\")\n",
        "plt.xlabel(\"Litros\")\n",
        "plt.ylabel(\"Frequência\")\n",
        "plt.show()"
      ],
      "metadata": {
        "id": "TFdOlsaav3V7"
      },
      "execution_count": null,
      "outputs": []
    },
    {
      "cell_type": "markdown",
      "source": [
        "Ogiva (Frequência Acumulada)"
      ],
      "metadata": {
        "id": "EqVCfJ7Gv6V_"
      }
    },
    {
      "cell_type": "code",
      "source": [
        "counts, bins, patches = plt.hist(df[\"Consumo de cerveja (litros)\"], bins=5, cumulative=True, color=\"lightcoral\", edgecolor=\"black\")\n",
        "plt.title(\"Ogiva - Frequência Acumulada do Consumo de Cerveja\")\n",
        "plt.xlabel(\"Litros\")\n",
        "plt.ylabel(\"Frequência Acumulada\")\n",
        "plt.show()"
      ],
      "metadata": {
        "id": "1gB9zAnowAJt"
      },
      "execution_count": null,
      "outputs": []
    }
  ],
  "metadata": {
    "colab": {
      "name": "Conheça o Colab",
      "provenance": []
    },
    "kernelspec": {
      "display_name": "Python 3",
      "name": "python3"
    }
  },
  "nbformat": 4,
  "nbformat_minor": 0
}